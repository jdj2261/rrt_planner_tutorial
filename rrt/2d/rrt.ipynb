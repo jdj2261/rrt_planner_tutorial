{
 "cells": [
  {
   "cell_type": "markdown",
   "source": [
    "# RRT Path planning"
   ],
   "metadata": {}
  },
  {
   "cell_type": "code",
   "execution_count": 1,
   "source": [
    "import numpy as np\n",
    "import matplotlib.pyplot as plt\n",
    "%matplotlib inline"
   ],
   "outputs": [],
   "metadata": {}
  },
  {
   "cell_type": "markdown",
   "source": [
    "## Tree Class"
   ],
   "metadata": {}
  },
  {
   "cell_type": "code",
   "execution_count": 2,
   "source": [
    "class Tree:\n",
    "    def __init__(self):\n",
    "        self.vertices = []\n",
    "        self.edges = []\n",
    "\n",
    "    def add_vertex(self, point):\n",
    "        self.vertices.append(point)\n",
    "\n",
    "    def add_edge(self, point_idx):\n",
    "        self.edges.append(point_idx)"
   ],
   "outputs": [],
   "metadata": {}
  },
  {
   "cell_type": "markdown",
   "source": [
    "## Environment Class"
   ],
   "metadata": {}
  },
  {
   "cell_type": "code",
   "execution_count": 3,
   "source": [
    "class Environment:\n",
    "    def __init__(\n",
    "        self,\n",
    "        x_min,\n",
    "        y_min,\n",
    "        x_max,\n",
    "        y_max\n",
    "    ):\n",
    "        self.x_min = x_min\n",
    "        self.y_min = y_min\n",
    "        self.x_max = x_max\n",
    "        self.y_max = y_max\n",
    "        self.obstacles = []\n",
    "\n",
    "    def add_obstacle(self, obj):\n",
    "        self.obstacles.extend(obj)"
   ],
   "outputs": [],
   "metadata": {}
  },
  {
   "cell_type": "markdown",
   "source": [
    "## RRT Class"
   ],
   "metadata": {}
  },
  {
   "cell_type": "code",
   "execution_count": 4,
   "source": [
    "class RRT:\n",
    "    \"\"\"\n",
    "    RRT path planning\n",
    "    \"\"\"\n",
    "    def __init__(\n",
    "        self, \n",
    "        env,\n",
    "        start, \n",
    "        goal,\n",
    "        delta_distance=1,\n",
    "        epsilon = 0.1,\n",
    "        max_iter=1000, \n",
    "    ):\n",
    "        self.env = env\n",
    "        self.start = start\n",
    "        self.goal  = goal\n",
    "        self.delta_dis = delta_distance\n",
    "        self.epsilon = epsilon\n",
    "        self.max_iter = max_iter\n",
    "        self.T = Tree()\n",
    "\n",
    "    def generate_path(self):\n",
    "        path = None\n",
    "        self.T.add_vertex(self.start)\n",
    "        for k in range(self.max_iter):\n",
    "            rand_point = self.random_state()\n",
    "            near_point, near_idx = self.nearest_neighbor(rand_point, self.T)\n",
    "            new_point  = self.new_state(near_point, rand_point)\n",
    "\n",
    "            if self.collision_free(near_point, new_point):\n",
    "                self.T.add_vertex(new_point)\n",
    "                new_idx = len(self.T.vertices) - 1\n",
    "                self.T.add_edge([near_idx, new_idx])\n",
    "\n",
    "                if self.reach_to_goal(new_point):\n",
    "                    print(\"reached to the goal\")\n",
    "                    path = self.find_path(self.T)\n",
    "                    break\n",
    "        return path\n",
    "\n",
    "    def random_state(self):\n",
    "        if np.random.random() > self.epsilon:\n",
    "            point = np.array([np.random.uniform(self.env.x_min, self.env.x_max),\n",
    "                              np.random.uniform(self.env.y_min, self.env.y_max)]) \n",
    "        else:\n",
    "            point = self.goal\n",
    "        return point\n",
    "\n",
    "    def nearest_neighbor(self, random_point, tree):\n",
    "        distances = [self.distance(random_point - point) \n",
    "                     for point in tree.vertices]\n",
    "        nearest_idx = np.argmin(distances)\n",
    "        nearest_point = tree.vertices[nearest_idx]\n",
    "        return nearest_point, nearest_idx\n",
    "\n",
    "    def distance(self, vector):\n",
    "        return np.linalg.norm(vector)\n",
    "\n",
    "    def new_state(self, nearest_point, random_point):\n",
    "        vector = random_point - nearest_point\n",
    "        dist = self.distance(vector)\n",
    "        step = min(self.delta_dis, dist)\n",
    "        unit_vector = vector / dist\n",
    "        new_point = nearest_point + unit_vector * step\n",
    "\n",
    "        return new_point\n",
    "\n",
    "    # TODO\n",
    "    # use fcl lib\n",
    "    def collision_free(self, pointA, pointB):\n",
    "        for (obs_x, obs_y, obs_r) in self.env.obstacles:\n",
    "            if self.is_inside_circle(obs_x, obs_y, obs_r, pointB):\n",
    "                return False\n",
    "            if self.is_intersect_circle(obs_x, obs_y, obs_r, pointA, pointB):\n",
    "                return False\n",
    "        return True\n",
    "\n",
    "    def is_inside_circle(self, x, y, r, point):\n",
    "        obs_point = np.array([x, y])\n",
    "        distances = self.distance(point - obs_point)\n",
    "        if distances <= r + self.delta_dis:\n",
    "            return True\n",
    "        return False\n",
    "\n",
    "    def is_intersect_circle(self, x, y, r, pointA, pointB):\n",
    "        vectorAB = pointB - pointA\n",
    "\n",
    "        distanceAB = self.distance(vectorAB)\n",
    "        if distanceAB == 0:\n",
    "            return False\n",
    "\n",
    "        pointC = np.array([x, y])\n",
    "        vectorAC = pointC - pointA\n",
    "        proj = np.dot(vectorAC, vectorAB) / distanceAB\n",
    "        proj = np.clip(proj, 0, 1)\n",
    "\n",
    "        pointD = pointA + proj * vectorAB\n",
    "        distancCD = self.distance(pointD - pointC)\n",
    "        \n",
    "        if distancCD <= r + self.delta_dis:\n",
    "            return True\n",
    "        return False\n",
    "\n",
    "    def reach_to_goal(self, point):\n",
    "        dist = self.distance(point-self.goal)\n",
    "        if dist <= 0.5:\n",
    "            return True\n",
    "        return False\n",
    "\n",
    "    def find_path(self, tree):\n",
    "        path = [self.goal]\n",
    "        goal_idx = tree.edges[-1][1]\n",
    " \n",
    "        while goal_idx != 0:\n",
    "            path.append(tree.vertices[goal_idx])\n",
    "            parent_idx = tree.edges[goal_idx-1][0]\n",
    "            goal_idx = parent_idx\n",
    "        path.append(self.start)\n",
    "\n",
    "        return path[::-1]\n",
    "\n",
    "    def get_rrt_tree(self):\n",
    "        vertices = []\n",
    "        for edge in self.T.edges:\n",
    "            from_node = self.T.vertices[edge[0]]\n",
    "            goal_node = self.T.vertices[edge[1]]\n",
    "            vertices.append((from_node, goal_node))\n",
    "        return vertices"
   ],
   "outputs": [],
   "metadata": {}
  },
  {
   "cell_type": "code",
   "execution_count": 5,
   "source": [
    "def plot_circle(x, y, size, color=\"-b\"):  # pragma: no cover\n",
    "    deg = list(range(0, 360, 5))\n",
    "    deg.append(0)\n",
    "    xl = [x + size * np.cos(np.deg2rad(d)) for d in deg]\n",
    "    yl = [y + size * np.sin(np.deg2rad(d)) for d in deg]\n",
    "    plt.plot(xl, yl, color)"
   ],
   "outputs": [],
   "metadata": {}
  },
  {
   "cell_type": "code",
   "execution_count": 6,
   "source": [
    "env = Environment(x_min=-20, y_min=-20, x_max=20, y_max=20)\n",
    "\n",
    "circles = []\n",
    "x, y, radius = (0, -15, 3)\n",
    "for i in range(20):\n",
    "    x = np.random.randint(-18, 18)\n",
    "    y = np.random.randint(5, 15)\n",
    "    circles.append((x, y, radius))\n",
    "circles.append((10, 0, 3))\n",
    "\n",
    "env.add_obstacle(circles)\n",
    "\n",
    "start_point = np.array([-20, 20])\n",
    "goal_point  = np.array([0, 0])\n",
    "\n",
    "planner = RRT(env, start=start_point, goal=goal_point, delta_distance=1, epsilon=0.2, max_iter=1000)\n",
    "\n",
    "path = planner.generate_path()\n",
    "tree = planner.get_rrt_tree()\n",
    "\n",
    "for circle in circles:\n",
    "    plot_circle(circle[0], circle[1], circle[2])\n",
    "\n",
    "for virtex in tree:\n",
    "    plt.plot([x for (x, y) in virtex],[y for (x, y) in virtex], 'k')\n",
    "\n",
    "if path is None:\n",
    "    print(\"cannot create path\")\n",
    "else:\n",
    "    plt.scatter([x for (x, y) in path], [y for (x, y) in path], s=55, c = 'b')\n",
    "    plt.plot([x for (x, y) in path], [y for (x, y) in path], '-r')\n",
    "    plt.text(path[0][0], path[0][1], 'Start', verticalalignment='bottom', horizontalalignment='center', size=\"20\")\n",
    "    plt.text(path[-1][0], path[-1][1], 'Goal', verticalalignment='bottom', horizontalalignment='center', size=\"20\")\n",
    "plt.show()"
   ],
   "outputs": [
    {
     "output_type": "stream",
     "name": "stdout",
     "text": [
      "reached to the goal\n"
     ]
    },
    {
     "output_type": "display_data",
     "data": {
      "image/png": "[encoded data removed]",
      "text/plain": [
       "<Figure size 432x288 with 1 Axes>"
      ]
     },
     "metadata": {
      "needs_background": "light"
     }
    }
   ],
   "metadata": {}
  }
 ],
 "metadata": {
  "interpreter": {
   "hash": "b20081bdc287ac2c1d69003683d35ecf982ea0bab41dbbd316fa020b393ed781"
  },
  "kernelspec": {
   "name": "python3",
   "display_name": "Python 3.6.13 64-bit ('pykdl_py_3.6': conda)"
  },
  "language_info": {
   "codemirror_mode": {
    "name": "ipython",
    "version": 3
   },
   "file_extension": ".py",
   "mimetype": "text/x-python",
   "name": "python",
   "nbconvert_exporter": "python",
   "pygments_lexer": "ipython3",
   "version": "3.6.13"
  },
  "orig_nbformat": 4
 },
 "nbformat": 4,
 "nbformat_minor": 2
}